{
 "cells": [
  {
   "cell_type": "code",
   "execution_count": 302,
   "id": "5249a492",
   "metadata": {},
   "outputs": [],
   "source": [
    "import torch\n",
    "import torchvision \n",
    "from PIL import Image\n",
    "import torchvision.transforms as transforms\n",
    "%matplotlib inline\n",
    "import matplotlib.pyplot as plt\n",
    "import torchvision.transforms.functional as F\n",
    "import numpy as np\n",
    "import cv2"
   ]
  },
  {
   "cell_type": "code",
   "execution_count": 339,
   "id": "e26d5804",
   "metadata": {},
   "outputs": [],
   "source": [
    "colors = torch.tensor([[0,0,128],[0,0,64],[0,0,32],[0,128,0],[0,64,0],[0,32,0],[0,16,0],[0,8,0],[0,4,0],[0,2,0],\n",
    "                      [0,1,0],[128,0,0],[64,0,0],[32,0,0],[16,0,0],[8,0,0],[4,0,0],[1,0,0]])\n",
    "colormap = torch.tensor([\n",
    "        [255, 9, 92], [112, 9, 255], [8, 255, 214], [7, 255, 224],\n",
    "        [255, 184, 6], [10, 255, 71], [255, 41, 10], [7, 255, 255],\n",
    "        [224, 255, 8], [102, 8, 255], [255, 61, 6], [255, 194, 7],\n",
    "        [255, 122, 8], [0, 255, 20], [255, 8, 41], [255, 5, 153],\n",
    "        [6, 51, 255], [235, 12, 255]\n",
    "])"
   ]
  },
  {
   "cell_type": "code",
   "execution_count": 373,
   "id": "6584a2b0",
   "metadata": {},
   "outputs": [],
   "source": [
    "img = Image.open('./gtFine/test/VWI10001 2020-02-02-08-04-50_labelIds.png')\n",
    "img = cv2.imread('./gtFine/test/VWI10001 2020-02-02-08-04-50_labelIds.png')\n",
    "real = Image.open('./leftImg8bit/test/VWI10001 2020-02-02-08-04-50.png')\n",
    "\n",
    "# img_transform = transforms.Compose([\n",
    "#                     transforms.ToTensor(),\n",
    "# ])\n",
    "\n",
    "# img = img_transform(img)"
   ]
  },
  {
   "cell_type": "code",
   "execution_count": 340,
   "id": "b6e99ee9",
   "metadata": {},
   "outputs": [],
   "source": [
    "class ConvertMaskColors:\n",
    "    \"\"\"Convert Mask colors to reflect the pretrained data colors\"\"\"\n",
    "\n",
    "    def __init__(self,):\n",
    "        pass\n",
    "\n",
    "    def __call__(self,img):\n",
    "        pass\n",
    "\n",
    "class TopLeftCornerErase:\n",
    "    def __init__(self, n_pixels: int):\n",
    "        self.n_pixels = n_pixels\n",
    "    \n",
    "    def __call__(self, img: torch.Tensor) -> torch.Tensor:\n",
    "        all_pixels = img.reshape(4, -1).transpose(1, 0)\n",
    "        idx = torch.randint(len(all_pixels), (1,))[0]\n",
    "        random_pixel = all_pixels[idx][:, None, None]\n",
    "        return F.erase(img, 0, 0, self.n_pixels, self.n_pixels, random_pixel)"
   ]
  },
  {
   "cell_type": "code",
   "execution_count": 306,
   "id": "2fc5ddd2",
   "metadata": {},
   "outputs": [],
   "source": [
    "erase = transforms.Compose([\n",
    "    TopLeftCornerErase(100)\n",
    "    # reverse_preprocess,\n",
    "])\n",
    "\n",
    "\n",
    "trans = transforms.Compose([\n",
    "                    transforms.ToPILImage(),\n",
    "])"
   ]
  },
  {
   "cell_type": "code",
   "execution_count": 204,
   "id": "c184e2f4",
   "metadata": {},
   "outputs": [],
   "source": [
    "cls = img.unique()\n",
    "# res = torch.stack([torch.where(img==cls_val, torch.tensor(1), torch.tensor(0)) for cls_val in cls])\n",
    "res = [torch.where(img==cls_val, torch.tensor(1), torch.tensor(0)) for cls_val in cls]\n",
    "res = torch.stack(res)\n"
   ]
  },
  {
   "cell_type": "code",
   "execution_count": 489,
   "id": "d8337cf2",
   "metadata": {},
   "outputs": [],
   "source": [
    "img = cv2.imread('./gtFine/test/VWI10001 2020-02-02-08-04-50_labelIds.png')\n"
   ]
  },
  {
   "cell_type": "code",
   "execution_count": 490,
   "id": "828a1d7b",
   "metadata": {},
   "outputs": [],
   "source": [
    "b,g,r = cv2.split(img)\n",
    "shape = b.shape\n",
    "b = b.reshape(-1)\n",
    "g = g.reshape(-1)\n",
    "r = r.reshape(-1)"
   ]
  },
  {
   "cell_type": "code",
   "execution_count": 445,
   "id": "af87a5ed",
   "metadata": {},
   "outputs": [],
   "source": [
    "color_b = {}\n",
    "color_g = {}\n",
    "color_r = {}\n",
    "# colors = colors.numpy()\n",
    "# colormap = colormap.numpy()\n",
    "for i,color in enumerate(colors):\n",
    "#     print(colors[i])\n",
    "    color_b[colors[i][0]] = colormap[i][0].item()\n",
    "    color_g[colors[i][1]] = colormap[i][1].item()\n",
    "    color_r[colors[i][2]] = colormap[i][2].item()"
   ]
  },
  {
   "cell_type": "markdown",
   "id": "8b7ac780",
   "metadata": {},
   "source": [
    "colormap"
   ]
  },
  {
   "cell_type": "code",
   "execution_count": 491,
   "id": "40fcf7e1",
   "metadata": {},
   "outputs": [],
   "source": [
    "for i in color_b:\n",
    "    b = np.where(b == i, color_b[i], b)\n",
    "\n",
    "for i in color_g:\n",
    "    g = np.where(g == i, color_g[i], g)\n",
    "\n",
    "for i in color_r:\n",
    "    r = np.where(r == i, color_r[i], r)"
   ]
  },
  {
   "cell_type": "code",
   "execution_count": 492,
   "id": "8a9c3981",
   "metadata": {},
   "outputs": [],
   "source": [
    "b = b.reshape(shape)\n",
    "g = g.reshape(shape)\n",
    "r = r.reshape(shape)"
   ]
  },
  {
   "cell_type": "code",
   "execution_count": 493,
   "id": "f8fbb2fc",
   "metadata": {},
   "outputs": [],
   "source": [
    "new_img = cv2.merge((b,g,r))"
   ]
  },
  {
   "cell_type": "code",
   "execution_count": 478,
   "id": "38a26802",
   "metadata": {},
   "outputs": [
    {
     "data": {
      "image/png": "[encoded data removed]",
      "text/plain": [
       "<PIL.Image.Image image mode=RGB size=506x530 at 0x13017D850>"
      ]
     },
     "execution_count": 478,
     "metadata": {},
     "output_type": "execute_result"
    }
   ],
   "source": [
    "trans(img)"
   ]
  },
  {
   "cell_type": "code",
   "execution_count": 494,
   "id": "15fbbb74",
   "metadata": {},
   "outputs": [
    {
     "data": {
      "image/png": "[encoded data removed]",
      "text/plain": [
       "<PIL.Image.Image image mode=RGB size=506x530 at 0x12621C640>"
      ]
     },
     "execution_count": 494,
     "metadata": {},
     "output_type": "execute_result"
    }
   ],
   "source": [
    "trans(new_img)"
   ]
  },
  {
   "cell_type": "code",
   "execution_count": 483,
   "id": "50975372",
   "metadata": {},
   "outputs": [
    {
     "data": {
      "text/plain": [
       "array([[128, 128, 128, ...,  64,  64,  64],\n",
       "       [128, 128, 128, ...,  64,  64,  64],\n",
       "       [128, 128, 128, ...,  64,  64,  64],\n",
       "       ...,\n",
       "       [ 64,  64,  64, ..., 128, 128, 128],\n",
       "       [ 64,  64,  64, ..., 128, 128, 128],\n",
       "       [ 64,  64,  64, ..., 128, 128, 128]], dtype=uint8)"
      ]
     },
     "execution_count": 483,
     "metadata": {},
     "output_type": "execute_result"
    }
   ],
   "source": [
    "b"
   ]
  },
  {
   "cell_type": "code",
   "execution_count": 487,
   "id": "c983efc8",
   "metadata": {},
   "outputs": [],
   "source": [
    "b = np.where(b == 128, 0, b)"
   ]
  },
  {
   "cell_type": "code",
   "execution_count": 488,
   "id": "5aeb44d1",
   "metadata": {},
   "outputs": [
    {
     "data": {
      "text/plain": [
       "array([[ 0,  0,  0, ..., 64, 64, 64],\n",
       "       [ 0,  0,  0, ..., 64, 64, 64],\n",
       "       [ 0,  0,  0, ..., 64, 64, 64],\n",
       "       ...,\n",
       "       [64, 64, 64, ...,  0,  0,  0],\n",
       "       [64, 64, 64, ...,  0,  0,  0],\n",
       "       [64, 64, 64, ...,  0,  0,  0]], dtype=uint8)"
      ]
     },
     "execution_count": 488,
     "metadata": {},
     "output_type": "execute_result"
    }
   ],
   "source": [
    "b"
   ]
  },
  {
   "cell_type": "code",
   "execution_count": null,
   "id": "853a3594",
   "metadata": {},
   "outputs": [],
   "source": []
  },
  {
   "cell_type": "code",
   "execution_count": null,
   "id": "ad89ce48",
   "metadata": {},
   "outputs": [],
   "source": []
  },
  {
   "cell_type": "code",
   "execution_count": null,
   "id": "fca73fc6",
   "metadata": {},
   "outputs": [],
   "source": []
  },
  {
   "cell_type": "code",
   "execution_count": null,
   "id": "c97f763c",
   "metadata": {},
   "outputs": [],
   "source": []
  }
 ],
 "metadata": {
  "kernelspec": {
   "display_name": "Python 3 (ipykernel)",
   "language": "python",
   "name": "python3"
  },
  "language_info": {
   "codemirror_mode": {
    "name": "ipython",
    "version": 3
   },
   "file_extension": ".py",
   "mimetype": "text/x-python",
   "name": "python",
   "nbconvert_exporter": "python",
   "pygments_lexer": "ipython3",
   "version": "3.9.6"
  }
 },
 "nbformat": 4,
 "nbformat_minor": 5
}
